{
 "cells": [
  {
   "cell_type": "code",
   "execution_count": null,
   "metadata": {},
   "outputs": [],
   "source": [
    "## to create a function we use def function"
   ]
  },
  {
   "cell_type": "code",
   "execution_count": 14,
   "metadata": {},
   "outputs": [],
   "source": [
    "#3 defining a variance function\n",
    "def variance(actual, budget):\n",
    "    difference=(actual -budget)\n",
    "    print(difference)"
   ]
  },
  {
   "cell_type": "code",
   "execution_count": 15,
   "metadata": {},
   "outputs": [
    {
     "name": "stdout",
     "output_type": "stream",
     "text": [
      "-1000\n"
     ]
    }
   ],
   "source": [
    "variance(2000, 3000)"
   ]
  },
  {
   "cell_type": "code",
   "execution_count": 23,
   "metadata": {},
   "outputs": [],
   "source": [
    "## defining a revenue function\n",
    "def revenue(cust, price):\n",
    "    new_rev=(cust*price)\n",
    "    print(new_rev)"
   ]
  },
  {
   "cell_type": "code",
   "execution_count": 24,
   "metadata": {},
   "outputs": [
    {
     "name": "stdout",
     "output_type": "stream",
     "text": [
      "20000\n"
     ]
    }
   ],
   "source": [
    "revenue(100,200)"
   ]
  },
  {
   "cell_type": "code",
   "execution_count": 25,
   "metadata": {},
   "outputs": [],
   "source": [
    "## defining percentage function\n",
    "def percentage(marks, total):\n",
    "    result=(marks/total)*100\n",
    "    print(result)\n",
    "    "
   ]
  },
  {
   "cell_type": "code",
   "execution_count": 34,
   "metadata": {},
   "outputs": [
    {
     "name": "stdout",
     "output_type": "stream",
     "text": [
      "70.0\n"
     ]
    }
   ],
   "source": [
    "percentage(700, 1000)"
   ]
  },
  {
   "cell_type": "code",
   "execution_count": 30,
   "metadata": {},
   "outputs": [],
   "source": [
    "###define and returning a function\n",
    "def performance(actual, budget):\n",
    "    '''These KPI will define growth of the company  '''\n",
    "    variance=(actual-budget)\n",
    "    variance_percentage=(actual/budget)*100\n",
    "    return(variance, variance_percentage) ### first way\n"
   ]
  },
  {
   "cell_type": "code",
   "execution_count": 31,
   "metadata": {},
   "outputs": [
    {
     "data": {
      "text/plain": [
       "(-30000, 76.92307692307693)"
      ]
     },
     "execution_count": 31,
     "metadata": {},
     "output_type": "execute_result"
    }
   ],
   "source": [
    "performance(100000, 130000)"
   ]
  },
  {
   "cell_type": "code",
   "execution_count": 32,
   "metadata": {},
   "outputs": [],
   "source": [
    "###define and returning a function\n",
    "def performance(actual, budget):\n",
    "    '''These KPI will define growth of the company  '''\n",
    "    variance=(actual-budget)\n",
    "    variance_percentage=(actual/budget)*100\n",
    "    ###return(variance, variance_percentage)\n",
    "    KPI=[variance,variance_percentage] #### second way\n",
    "    return(KPI)"
   ]
  },
  {
   "cell_type": "code",
   "execution_count": 33,
   "metadata": {},
   "outputs": [
    {
     "data": {
      "text/plain": [
       "[-30000, 76.92307692307693]"
      ]
     },
     "execution_count": 33,
     "metadata": {},
     "output_type": "execute_result"
    }
   ],
   "source": [
    "performance(100000, 130000)"
   ]
  },
  {
   "cell_type": "code",
   "execution_count": 93,
   "metadata": {},
   "outputs": [
    {
     "ename": "SyntaxError",
     "evalue": "invalid syntax (<ipython-input-93-5d148f78c1e8>, line 1)",
     "output_type": "error",
     "traceback": [
      "\u001b[1;36m  File \u001b[1;32m\"<ipython-input-93-5d148f78c1e8>\"\u001b[1;36m, line \u001b[1;32m1\u001b[0m\n\u001b[1;33m    def cust_details(name,city, str(price):\u001b[0m\n\u001b[1;37m                                   ^\u001b[0m\n\u001b[1;31mSyntaxError\u001b[0m\u001b[1;31m:\u001b[0m invalid syntax\n"
     ]
    }
   ],
   "source": [
    "def cust_details(name,city, str(price):\n",
    "    details=(name + ' '+ city  + ' '+ price)\n",
    "    return(details)\n",
    "   "
   ]
  },
  {
   "cell_type": "code",
   "execution_count": 106,
   "metadata": {},
   "outputs": [],
   "source": [
    "# Define function with parameters\n",
    "def profile_info(username, followers):\n",
    "    ##print(\"Username: \" + username)\n",
    "    ##print()\n",
    "    return((\"Username: \" + username), (\"Followers: \" + str(followers)))\n"
   ]
  },
  {
   "cell_type": "code",
   "execution_count": 107,
   "metadata": {},
   "outputs": [
    {
     "data": {
      "text/plain": [
       "('Username: Bhavika', 'Followers: 1500')"
      ]
     },
     "execution_count": 107,
     "metadata": {},
     "output_type": "execute_result"
    }
   ],
   "source": [
    "profile_info('Bhavika', 1500)"
   ]
  },
  {
   "cell_type": "code",
   "execution_count": 105,
   "metadata": {},
   "outputs": [
    {
     "ename": "SyntaxError",
     "evalue": "unexpected EOF while parsing (<ipython-input-105-ae9dd83bc671>, line 3)",
     "output_type": "error",
     "traceback": [
      "\u001b[1;36m  File \u001b[1;32m\"<ipython-input-105-ae9dd83bc671>\"\u001b[1;36m, line \u001b[1;32m3\u001b[0m\n\u001b[1;33m    return(('Invoice_amount:' + str(invoice_amt))\u001b[0m\n\u001b[1;37m                                                  ^\u001b[0m\n\u001b[1;31mSyntaxError\u001b[0m\u001b[1;31m:\u001b[0m unexpected EOF while parsing\n"
     ]
    }
   ],
   "source": [
    "def customer_info(customer_name, city, invoice_amt):\n",
    "    ##return(('Customer_Name:'+ customer_name), ('City:'+ city),\n",
    "    return(('Invoice_amount:' + str(invoice_amt)) "
   ]
  },
  {
   "cell_type": "code",
   "execution_count": 125,
   "metadata": {},
   "outputs": [],
   "source": [
    "# Define function with different datatypes arguments\n",
    "def customer_info(customername,amount, city ):\n",
    "    print(\"Customer_Name: \" + customername)\n",
    "    print(\"Invoice_Amount: \" + str(amount))\n",
    "    print(\"Customer_City: \" +city  )\n",
    "    ##return((\"Customer_Name: \" + customername), (\"Invoice_Amount: \" + str(amount)), (\"Customer_City: \" +city  ))"
   ]
  },
  {
   "cell_type": "code",
   "execution_count": 126,
   "metadata": {},
   "outputs": [
    {
     "name": "stdout",
     "output_type": "stream",
     "text": [
      "Customer_Name: jack\n",
      "Invoice_Amount: 1000\n",
      "Customer_City: New York\n"
     ]
    }
   ],
   "source": [
    "customer_info(\"jack\", 1000,'New York')"
   ]
  },
  {
   "cell_type": "code",
   "execution_count": 127,
   "metadata": {},
   "outputs": [
    {
     "name": "stdout",
     "output_type": "stream",
     "text": [
      "Customer_Name: john\n",
      "Invoice_Amount: 2000\n",
      "Customer_City: Boston\n"
     ]
    }
   ],
   "source": [
    "customer_info(\"john\", 2000, 'Boston')"
   ]
  },
  {
   "cell_type": "code",
   "execution_count": 128,
   "metadata": {},
   "outputs": [],
   "source": [
    "# Define function with parameters\n",
    "def customer_info(customername,amount, city ):\n",
    "    ##print(\"Customer_Name: \" + customername)\n",
    "    ##print(\"Invoice_Amount: \" + str(amount))\n",
    "    ##print(\"Customer_City: \" +city  )\n",
    "    return((\"Customer_Name: \" + customername), (\"Invoice_Amount: \" + str(amount)), (\"Customer_City: \" +city  ))"
   ]
  },
  {
   "cell_type": "code",
   "execution_count": 129,
   "metadata": {},
   "outputs": [
    {
     "data": {
      "text/plain": [
       "('Customer_Name: jack', 'Invoice_Amount: 1000', 'Customer_City: New York')"
      ]
     },
     "execution_count": 129,
     "metadata": {},
     "output_type": "execute_result"
    }
   ],
   "source": [
    "customer_info(\"jack\", 1000,'New York')"
   ]
  },
  {
   "cell_type": "code",
   "execution_count": 130,
   "metadata": {},
   "outputs": [
    {
     "data": {
      "text/plain": [
       "('Customer_Name: john', 'Invoice_Amount: 2000', 'Customer_City: Boston')"
      ]
     },
     "execution_count": 130,
     "metadata": {},
     "output_type": "execute_result"
    }
   ],
   "source": [
    "customer_info(\"john\", 2000, 'Boston')"
   ]
  },
  {
   "cell_type": "code",
   "execution_count": null,
   "metadata": {},
   "outputs": [],
   "source": []
  }
 ],
 "metadata": {
  "kernelspec": {
   "display_name": "Python 3",
   "language": "python",
   "name": "python3"
  },
  "language_info": {
   "codemirror_mode": {
    "name": "ipython",
    "version": 3
   },
   "file_extension": ".py",
   "mimetype": "text/x-python",
   "name": "python",
   "nbconvert_exporter": "python",
   "pygments_lexer": "ipython3",
   "version": "3.7.4"
  }
 },
 "nbformat": 4,
 "nbformat_minor": 2
}
