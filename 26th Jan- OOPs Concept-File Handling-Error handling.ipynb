{
 "cells": [
  {
   "cell_type": "code",
   "execution_count": 1,
   "metadata": {},
   "outputs": [
    {
     "name": "stdout",
     "output_type": "stream",
     "text": [
      "Name:  Bhavika\n",
      "Age:  30\n",
      "Marks:  89\n",
      "Hi Bhavika\n",
      "Your age is: 89\n",
      "your marks is: 30\n"
     ]
    }
   ],
   "source": [
    "n=input('Name:  ') #3 defining a object and then defininf funcy=tions to make the code reusable\n",
    "a=input('Age:  ')\n",
    "m=input('Marks:  ')\n",
    "class student:\n",
    "    def __init__(self, n, a, m ):\n",
    "        self.name=n\n",
    "        self.age=a\n",
    "        self.marks=m\n",
    "        \n",
    "    def display(self):\n",
    "        print('Hi', self.name)\n",
    "        print('Your age is:', self.age)\n",
    "        print('your marks is:', self.marks)\n",
    "        \n",
    "s1=student(n, m, a)\n",
    "s1.display()\n",
    "        "
   ]
  },
  {
   "cell_type": "code",
   "execution_count": 5,
   "metadata": {},
   "outputs": [
    {
     "name": "stdout",
     "output_type": "stream",
     "text": [
      "Hi Bhavika\n",
      "Your age is: 30\n",
      "your marks is: 89\n"
     ]
    }
   ],
   "source": [
    "s1=student(n,a,m)\n",
    "s1.display()"
   ]
  },
  {
   "cell_type": "code",
   "execution_count": 6,
   "metadata": {},
   "outputs": [
    {
     "name": "stdout",
     "output_type": "stream",
     "text": [
      "Hi Bhavika\n",
      "Your age is: 30\n",
      "your marks is: 89\n"
     ]
    }
   ],
   "source": [
    "s2=student(n,a,m)\n",
    "s2.display()"
   ]
  },
  {
   "cell_type": "code",
   "execution_count": 7,
   "metadata": {},
   "outputs": [
    {
     "name": "stdout",
     "output_type": "stream",
     "text": [
      "Name:  Bhavika\n",
      "Age:  30\n",
      "Marks:  90\n",
      "Hi Bhavika\n",
      "Your age is: 30\n",
      "your marks is: 90\n"
     ]
    }
   ],
   "source": [
    "n=input('Name:  ')\n",
    "a=input('Age:  ')\n",
    "m=input('Marks:  ')\n",
    "s1=student(n,a,m)\n",
    "s1.display()"
   ]
  },
  {
   "cell_type": "code",
   "execution_count": 8,
   "metadata": {},
   "outputs": [
    {
     "name": "stdout",
     "output_type": "stream",
     "text": [
      "Name:  Vishal\n",
      "Age:  34\n",
      "Marks:  98\n",
      "Hi Vishal\n",
      "Your age is: 34\n",
      "your marks is: 98\n"
     ]
    }
   ],
   "source": [
    "n=input('Name:  ')\n",
    "a=input('Age:  ')\n",
    "m=input('Marks:  ')\n",
    "s2=student(n,a,m)\n",
    "s2.display()"
   ]
  },
  {
   "cell_type": "code",
   "execution_count": null,
   "metadata": {},
   "outputs": [],
   "source": [
    "c=input('customer: ')\n",
    "l= input('location: ')\n",
    "q=input('quantity:  ')\n",
    "class customer:\n",
    "    def __init__(self, c, l, **q):\n",
    "        self.customer=c\n",
    "        self.location= l\n",
    "        self.quantity=q\n",
    "        \n",
    "    def display(self):\n",
    "        print('Customer Name:  ', self.customer)\n",
    "        print('Location:    ', self.location)\n",
    "        print('Quantity:  ', self.quantity)\n",
    "        \n",
    "c1 = customer('John', 'Maryland',Mangoes=32)\n",
    "c1.display   "
   ]
  },
  {
   "cell_type": "code",
   "execution_count": null,
   "metadata": {},
   "outputs": [],
   "source": [
    "### File Handling"
   ]
  },
  {
   "cell_type": "code",
   "execution_count": 1,
   "metadata": {},
   "outputs": [],
   "source": [
    "import os ## iport library for setting working directory"
   ]
  },
  {
   "cell_type": "code",
   "execution_count": 2,
   "metadata": {},
   "outputs": [
    {
     "data": {
      "text/plain": [
       "'C:\\\\Users\\\\Consultant20162'"
      ]
     },
     "execution_count": 2,
     "metadata": {},
     "output_type": "execute_result"
    }
   ],
   "source": [
    "os.getcwd()"
   ]
  },
  {
   "cell_type": "code",
   "execution_count": 3,
   "metadata": {},
   "outputs": [],
   "source": [
    "os.chdir('C:\\\\Users\\\\Consultant20162\\\\Desktop\\\\Python Certification\\\\')\n",
    "## this is the location where our file will be actually saved"
   ]
  },
  {
   "cell_type": "code",
   "execution_count": 4,
   "metadata": {},
   "outputs": [
    {
     "data": {
      "text/plain": [
       "'C:\\\\Users\\\\Consultant20162\\\\Desktop\\\\Python Certification'"
      ]
     },
     "execution_count": 4,
     "metadata": {},
     "output_type": "execute_result"
    }
   ],
   "source": [
    "os.getcwd()"
   ]
  },
  {
   "cell_type": "code",
   "execution_count": 18,
   "metadata": {},
   "outputs": [
    {
     "name": "stdout",
     "output_type": "stream",
     "text": [
      "Data written successfully\n"
     ]
    }
   ],
   "source": [
    "## this code will create the txt file at the location specified\n",
    "file=open('Bhavika Python.txt', 'w')\n",
    "file.write('My name is XYX')\n",
    "file.write('\\nI live in USA' )\n",
    "file.write(\"\\nI love my husband\")\n",
    "print('Data written successfully')\n",
    "file.close()"
   ]
  },
  {
   "cell_type": "code",
   "execution_count": 10,
   "metadata": {},
   "outputs": [
    {
     "name": "stdout",
     "output_type": "stream",
     "text": [
      "Date written successfully\n"
     ]
    }
   ],
   "source": [
    "## Now we want to add extra text to the existing file, for this we wil open it in append format\n",
    "file=open('Bhavika Python.txt', 'a')\n",
    "file.write('\\n I am from India')\n",
    "file.write('\\n I am xyx yeards old')\n",
    "print('Date written successfully')\n",
    "file.close()"
   ]
  },
  {
   "cell_type": "code",
   "execution_count": 13,
   "metadata": {},
   "outputs": [
    {
     "name": "stdout",
     "output_type": "stream",
     "text": [
      "List eritten successfully\n"
     ]
    }
   ],
   "source": [
    "## To overwrite the existing file , we will open it in write mode\n",
    "file=open('Bhavika Python.txt', 'w')\n",
    "list=['my name is XYZ\\n', 'Tableau\\n', 'Python\\n', 'Salesforce']\n",
    "file.writelines(list)\n",
    "print('List eritten successfully')\n",
    "file.close()"
   ]
  },
  {
   "cell_type": "code",
   "execution_count": 15,
   "metadata": {},
   "outputs": [
    {
     "name": "stdout",
     "output_type": "stream",
     "text": [
      "my name is XYZ\n",
      "Tableau\n",
      "Python\n",
      "Salesforce\n"
     ]
    }
   ],
   "source": [
    "## Now we want to read the file\n",
    "file=open('Bhavika Python.txt', 'r')\n",
    "call=file.read()\n",
    "print(call)\n",
    "file.close()"
   ]
  },
  {
   "cell_type": "code",
   "execution_count": 16,
   "metadata": {},
   "outputs": [
    {
     "name": "stdout",
     "output_type": "stream",
     "text": [
      "my name\n"
     ]
    }
   ],
   "source": [
    "## now we want to read only few txt only\n",
    "file=open('Bhavika Python.txt', 'r')\n",
    "call=file.read(7)\n",
    "print(call)\n",
    "file.close()"
   ]
  },
  {
   "cell_type": "code",
   "execution_count": 17,
   "metadata": {},
   "outputs": [
    {
     "data": {
      "text/plain": [
       "<function nt.remove(path, *, dir_fd=None)>"
      ]
     },
     "execution_count": 17,
     "metadata": {},
     "output_type": "execute_result"
    }
   ],
   "source": [
    "## Now to remove the file\n",
    "os.remove"
   ]
  },
  {
   "cell_type": "code",
   "execution_count": 20,
   "metadata": {},
   "outputs": [
    {
     "name": "stdout",
     "output_type": "stream",
     "text": [
      "The file is deleted successfully\n"
     ]
    }
   ],
   "source": [
    "##Now we want to apply if else to file \n",
    "if os.path.exists('Bhavika Python.txt'):\n",
    "    os.remove('Bhavika Python.txt')\n",
    "    print('The file is deleted successfully')\n",
    "else:\n",
    "    print('The file does not exists')"
   ]
  },
  {
   "cell_type": "code",
   "execution_count": null,
   "metadata": {},
   "outputs": [],
   "source": [
    "## now we want o write file giving input\n",
    "file=open('Bhavika Python.txt', 'w')\n",
    "file.write(input('my name is:'))\n",
    "file.write(input('my age is:'))\n",
    "file.write(input('my profession is:'))\n",
    "print('Data written successfully')\n",
    "file.close()"
   ]
  },
  {
   "cell_type": "code",
   "execution_count": null,
   "metadata": {},
   "outputs": [],
   "source": [
    "##Error Handling/Exceptional Handling"
   ]
  },
  {
   "cell_type": "code",
   "execution_count": 1,
   "metadata": {},
   "outputs": [
    {
     "name": "stdout",
     "output_type": "stream",
     "text": [
      "Number1: 34\n",
      "Number2:  2\n",
      "None\n",
      "-----New Line------\n",
      "Result=  17.0\n"
     ]
    }
   ],
   "source": [
    "result = None\n",
    "x=int(input('Number1: '))\n",
    "y=int(input('Number2:  '))\n",
    "print(result)\n",
    "result=x/y\n",
    "print('-----New Line------')\n",
    "print('Result= ', result)"
   ]
  },
  {
   "cell_type": "code",
   "execution_count": 2,
   "metadata": {},
   "outputs": [
    {
     "name": "stdout",
     "output_type": "stream",
     "text": [
      "Number1: b\n"
     ]
    },
    {
     "ename": "ValueError",
     "evalue": "invalid literal for int() with base 10: 'b'",
     "output_type": "error",
     "traceback": [
      "\u001b[1;31m---------------------------------------------------------------------------\u001b[0m",
      "\u001b[1;31mValueError\u001b[0m                                Traceback (most recent call last)",
      "\u001b[1;32m<ipython-input-2-15ad58d62ea2>\u001b[0m in \u001b[0;36m<module>\u001b[1;34m\u001b[0m\n\u001b[0;32m      1\u001b[0m \u001b[0mresult\u001b[0m \u001b[1;33m=\u001b[0m \u001b[1;32mNone\u001b[0m\u001b[1;33m\u001b[0m\u001b[1;33m\u001b[0m\u001b[0m\n\u001b[1;32m----> 2\u001b[1;33m \u001b[0mx\u001b[0m\u001b[1;33m=\u001b[0m\u001b[0mint\u001b[0m\u001b[1;33m(\u001b[0m\u001b[0minput\u001b[0m\u001b[1;33m(\u001b[0m\u001b[1;34m'Number1: '\u001b[0m\u001b[1;33m)\u001b[0m\u001b[1;33m)\u001b[0m\u001b[1;33m\u001b[0m\u001b[1;33m\u001b[0m\u001b[0m\n\u001b[0m\u001b[0;32m      3\u001b[0m \u001b[0my\u001b[0m\u001b[1;33m=\u001b[0m\u001b[0mint\u001b[0m\u001b[1;33m(\u001b[0m\u001b[0minput\u001b[0m\u001b[1;33m(\u001b[0m\u001b[1;34m'Number2:  '\u001b[0m\u001b[1;33m)\u001b[0m\u001b[1;33m)\u001b[0m\u001b[1;33m\u001b[0m\u001b[1;33m\u001b[0m\u001b[0m\n\u001b[0;32m      4\u001b[0m \u001b[0mprint\u001b[0m\u001b[1;33m(\u001b[0m\u001b[0mresult\u001b[0m\u001b[1;33m)\u001b[0m\u001b[1;33m\u001b[0m\u001b[1;33m\u001b[0m\u001b[0m\n\u001b[0;32m      5\u001b[0m \u001b[0mresult\u001b[0m\u001b[1;33m=\u001b[0m\u001b[0mx\u001b[0m\u001b[1;33m/\u001b[0m\u001b[0my\u001b[0m\u001b[1;33m\u001b[0m\u001b[1;33m\u001b[0m\u001b[0m\n",
      "\u001b[1;31mValueError\u001b[0m: invalid literal for int() with base 10: 'b'"
     ]
    }
   ],
   "source": [
    "result = None\n",
    "x=int(input('Number1: '))\n",
    "y=int(input('Number2:  '))\n",
    "print(result)\n",
    "result=x/y\n",
    "print('-----New Line------')\n",
    "print('Result= ', result)"
   ]
  },
  {
   "cell_type": "code",
   "execution_count": 12,
   "metadata": {},
   "outputs": [
    {
     "name": "stdout",
     "output_type": "stream",
     "text": [
      "Number 1 :  a\n",
      "Error with the code\n",
      "---New Line-----\n",
      "None\n"
     ]
    }
   ],
   "source": [
    "## now we want it should handle error and move ahead\n",
    "try:\n",
    "    result=None\n",
    "    x=int(input('Number 1 :  '))\n",
    "    y=int(input('Number 2:  '))\n",
    "    result=x/y\n",
    "    print(result)\n",
    "except: \n",
    "    print('Error with the code')\n",
    "    print('---New Line-----')\n",
    "    print(result)\n",
    "  "
   ]
  },
  {
   "cell_type": "code",
   "execution_count": 14,
   "metadata": {},
   "outputs": [
    {
     "name": "stdout",
     "output_type": "stream",
     "text": [
      "Number 1 :  a\n",
      "<class 'ValueError'>\n",
      "Error with the code\n",
      "---New Line-----\n",
      "None\n"
     ]
    }
   ],
   "source": [
    "## If we wnat to print the type of error\n",
    "try:\n",
    "    result=None\n",
    "    x=int(input('Number 1 :  '))\n",
    "    y=int(input('Number 2:  '))\n",
    "    result=x/y\n",
    "    print(result)\n",
    "except Exception as e:\n",
    "    print(type(e))\n",
    "    print('Error with the code')\n",
    "    print('---New Line-----')\n",
    "    print(result)\n",
    "  "
   ]
  },
  {
   "cell_type": "code",
   "execution_count": 15,
   "metadata": {},
   "outputs": [
    {
     "name": "stdout",
     "output_type": "stream",
     "text": [
      "Number 1 :  10\n",
      "Number 2:  0\n",
      "<class 'ZeroDivisionError'>\n",
      "Error with the code\n",
      "---New Line-----\n",
      "None\n"
     ]
    }
   ],
   "source": [
    "## If we wnat to print the type of error\n",
    "try:\n",
    "    result=None\n",
    "    x=int(input('Number 1 :  '))\n",
    "    y=int(input('Number 2:  '))\n",
    "    result=x/y\n",
    "    print(result)\n",
    "except Exception as e:\n",
    "    print(type(e))\n",
    "    print('Error with the code')\n",
    "    print('---New Line-----')\n",
    "    print(result)\n",
    "  "
   ]
  },
  {
   "cell_type": "code",
   "execution_count": 25,
   "metadata": {},
   "outputs": [
    {
     "name": "stdout",
     "output_type": "stream",
     "text": [
      "Number 1 :  a\n",
      "<class 'ValueError'>\n",
      "Inside Fianlly\n",
      "---New Line-----\n",
      "None\n"
     ]
    }
   ],
   "source": [
    "## Adding two more functions(else, finally)\n",
    "try:\n",
    "    result=None\n",
    "    x=int(input('Number 1 :  '))\n",
    "    y=int(input('Number 2:  '))\n",
    "    result=x/y\n",
    "    print(result)\n",
    "except Exception as e:\n",
    "    print(type(e))\n",
    "else:\n",
    "    print('Inside Else')\n",
    "finally:\n",
    "    print('Inside Fianlly')\n",
    "print('---New Line-----')\n",
    "print(result)"
   ]
  },
  {
   "cell_type": "code",
   "execution_count": null,
   "metadata": {},
   "outputs": [],
   "source": [
    "###Lambda Function"
   ]
  },
  {
   "cell_type": "code",
   "execution_count": 26,
   "metadata": {},
   "outputs": [],
   "source": [
    "## converstioon through normal function(def function)\n",
    "def ctof (c):\n",
    "    f=9/5*c+32\n",
    "    return f\n"
   ]
  },
  {
   "cell_type": "code",
   "execution_count": 27,
   "metadata": {},
   "outputs": [
    {
     "data": {
      "text/plain": [
       "116.60000000000001"
      ]
     },
     "execution_count": 27,
     "metadata": {},
     "output_type": "execute_result"
    }
   ],
   "source": [
    "ctof(47)"
   ]
  },
  {
   "cell_type": "code",
   "execution_count": 28,
   "metadata": {},
   "outputs": [
    {
     "data": {
      "text/plain": [
       "116.60000000000001"
      ]
     },
     "execution_count": 28,
     "metadata": {},
     "output_type": "execute_result"
    }
   ],
   "source": [
    "## through Lambda Function\n",
    "ctof_lam= lambda c: 9/5*c +32\n",
    "ctof_lam(47)"
   ]
  },
  {
   "cell_type": "code",
   "execution_count": 36,
   "metadata": {},
   "outputs": [],
   "source": [
    "profit_ratio=lambda rev, exp: (rev/exp)"
   ]
  },
  {
   "cell_type": "code",
   "execution_count": 37,
   "metadata": {},
   "outputs": [
    {
     "data": {
      "text/plain": [
       "5.0"
      ]
     },
     "execution_count": 37,
     "metadata": {},
     "output_type": "execute_result"
    }
   ],
   "source": [
    "profit_ratio(5000, 1000)"
   ]
  },
  {
   "cell_type": "code",
   "execution_count": 38,
   "metadata": {},
   "outputs": [],
   "source": [
    "def multiply(a, b):\n",
    "    result=a*b\n",
    "    return result"
   ]
  },
  {
   "cell_type": "code",
   "execution_count": 39,
   "metadata": {},
   "outputs": [
    {
     "data": {
      "text/plain": [
       "60"
      ]
     },
     "execution_count": 39,
     "metadata": {},
     "output_type": "execute_result"
    }
   ],
   "source": [
    "multiply(5, 12)"
   ]
  },
  {
   "cell_type": "code",
   "execution_count": 40,
   "metadata": {},
   "outputs": [],
   "source": [
    "multiply=lambda a, b: a*b"
   ]
  },
  {
   "cell_type": "code",
   "execution_count": 41,
   "metadata": {},
   "outputs": [
    {
     "data": {
      "text/plain": [
       "60"
      ]
     },
     "execution_count": 41,
     "metadata": {},
     "output_type": "execute_result"
    }
   ],
   "source": [
    "multiply(5, 12)"
   ]
  },
  {
   "cell_type": "code",
   "execution_count": 46,
   "metadata": {},
   "outputs": [
    {
     "name": "stdout",
     "output_type": "stream",
     "text": [
      "4\n",
      "8\n",
      "12\n",
      "16\n"
     ]
    }
   ],
   "source": [
    "## normal function\n",
    "x=[2,4, 6, 8]\n",
    "for i in x:\n",
    "    y=i+i\n",
    "    print(y)"
   ]
  },
  {
   "cell_type": "code",
   "execution_count": 48,
   "metadata": {},
   "outputs": [
    {
     "data": {
      "text/plain": [
       "(4, 8, 12, 16)"
      ]
     },
     "execution_count": 48,
     "metadata": {},
     "output_type": "execute_result"
    }
   ],
   "source": [
    "## Map function with Lambda\n",
    "some_num=[2, 4, 6,8 ]\n",
    "double=map(lambda x: x+x, some_num)\n",
    "tuple(double)"
   ]
  },
  {
   "cell_type": "code",
   "execution_count": 55,
   "metadata": {},
   "outputs": [
    {
     "data": {
      "text/plain": [
       "('MY', 'PYTHON')"
      ]
     },
     "execution_count": 55,
     "metadata": {},
     "output_type": "execute_result"
    }
   ],
   "source": [
    "## Lambda sfunction with String\n",
    "strings=['My', 'Python']\n",
    "cap=map(lambda x: str.upper(x), strings)\n",
    "tuple(cap)"
   ]
  },
  {
   "cell_type": "code",
   "execution_count": 57,
   "metadata": {},
   "outputs": [
    {
     "data": {
      "text/plain": [
       "(34, 33, 33)"
      ]
     },
     "execution_count": 57,
     "metadata": {},
     "output_type": "execute_result"
    }
   ],
   "source": [
    "## filter with lmabda function\n",
    "attendence=[34, 33, 32, 21, 24, 33]\n",
    "tuple(filter(lambda x: x>=33, attendence))"
   ]
  },
  {
   "cell_type": "code",
   "execution_count": null,
   "metadata": {},
   "outputs": [],
   "source": []
  }
 ],
 "metadata": {
  "kernelspec": {
   "display_name": "Python 3",
   "language": "python",
   "name": "python3"
  },
  "language_info": {
   "codemirror_mode": {
    "name": "ipython",
    "version": 3
   },
   "file_extension": ".py",
   "mimetype": "text/x-python",
   "name": "python",
   "nbconvert_exporter": "python",
   "pygments_lexer": "ipython3",
   "version": "3.7.4"
  }
 },
 "nbformat": 4,
 "nbformat_minor": 2
}
